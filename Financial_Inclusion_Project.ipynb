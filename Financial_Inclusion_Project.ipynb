{
  "nbformat": 4,
  "nbformat_minor": 0,
  "metadata": {
    "colab": {
      "name": "Financial Inclusion Project",
      "provenance": [],
      "collapsed_sections": [
        "iUNbvIvnT7ep"
      ]
    },
    "kernelspec": {
      "name": "python3",
      "display_name": "Python 3"
    }
  },
  "cells": [
    {
      "cell_type": "markdown",
      "metadata": {
        "id": "xMxtPsqcTsSH"
      },
      "source": [
        "# Financial Inclusion Descriptive Analysis"
      ]
    },
    {
      "cell_type": "markdown",
      "metadata": {
        "id": "kLG2VTrnTvYL"
      },
      "source": [
        "## 1. Defining the Question"
      ]
    },
    {
      "cell_type": "markdown",
      "metadata": {
        "id": "XecOwPNorl2W"
      },
      "source": [
        "### a) Specifying the Question"
      ]
    },
    {
      "cell_type": "markdown",
      "metadata": {
        "id": "8l3-hBO6bODP"
      },
      "source": [
        "> Has the penetration of mobile devices in East Africa brought about Financial Inclusion for majorly women. "
      ]
    },
    {
      "cell_type": "markdown",
      "metadata": {
        "id": "J4wfHZwQrs-t"
      },
      "source": [
        "### b) Defining the Metric for Success"
      ]
    },
    {
      "cell_type": "markdown",
      "source": [
        "If there has been a steady rise in the number of women mobile owners having access to finance as compared to men then this would be a metric for success.\n"
      ],
      "metadata": {
        "id": "imk62z7Nmlc0"
      }
    },
    {
      "cell_type": "markdown",
      "metadata": {
        "id": "a9BPYqunry97"
      },
      "source": [
        "### c) Understanding the context "
      ]
    },
    {
      "cell_type": "markdown",
      "source": [
        "This data is based on financial inclusion in East Africa."
      ],
      "metadata": {
        "id": "URRFHcBtm7I_"
      }
    },
    {
      "cell_type": "markdown",
      "metadata": {
        "id": "zSGyg6kWsBUl"
      },
      "source": [
        "### d) Data Relevance"
      ]
    },
    {
      "cell_type": "markdown",
      "source": [
        "This data is based on financial inclusion in East Africa."
      ],
      "metadata": {
        "id": "62FmSGXooaYc"
      }
    },
    {
      "cell_type": "markdown",
      "source": [
        "There was a previous article done by IFC where they stated that Financial Inclusion in Africa has been increased rapidly as a result of digital financial inclusion.<a  href='https://www.ifc.org/wps/wcm/connect/REGION__EXT_Content/IFC_External_Corporate_Site/Sub-Saharan+Africa/Priorities/Financial+Inclusion/#:~:text=In%20Sub%2DSaharan%20Africa%2C%20financial,from%2024%20percent%20in%202011'> Link</a>."
      ],
      "metadata": {
        "id": "_d5WDgxInOs7"
      }
    },
    {
      "cell_type": "markdown",
      "metadata": {
        "id": "ckfufNrcUHeH"
      },
      "source": [
        "## 2. External Data Source Validation"
      ]
    },
    {
      "cell_type": "markdown",
      "metadata": {
        "id": "6L4sl_0WXlbg"
      },
      "source": [
        "There was a previous article done by IFC where they stated that Financial Inclusion in Africa has been increased rapidly as a result of digital financial inclusion.<a  href='https://www.ifc.org/wps/wcm/connect/REGION__EXT_Content/IFC_External_Corporate_Site/Sub-Saharan+Africa/Priorities/Financial+Inclusion/#:~:text=In%20Sub%2DSaharan%20Africa%2C%20financial,from%2024%20percent%20in%202011'> Link</a>."
      ]
    },
    {
      "cell_type": "markdown",
      "metadata": {
        "id": "iUNbvIvnT7ep"
      },
      "source": [
        "## 3. Reading the Data"
      ]
    },
    {
      "cell_type": "markdown",
      "source": [
        "## **Setup**"
      ],
      "metadata": {
        "id": "hs2yVvGXGdKh"
      }
    },
    {
      "cell_type": "markdown",
      "source": [
        "# For this analysis, we will be using the following libraries:\n",
        "\n",
        "*   [`pandas`](https://pandas.pydata.org/?utm_medium=Exinfluencer&utm_source=Exinfluencer&utm_content=000026UJ&utm_term=10006555&utm_id=NA-SkillsNetwork-Channel-SkillsNetworkCoursesIBMML0232ENSkillsNetwork30654641-2021-01-01) for managing the data.\n",
        "*   [`numpy`](https://numpy.org/?utm_medium=Exinfluencer&utm_source=Exinfluencer&utm_content=000026UJ&utm_term=10006555&utm_id=NA-SkillsNetwork-Channel-SkillsNetworkCoursesIBMML0232ENSkillsNetwork30654641-2021-01-01) for mathematical operations.\n",
        "*   [`seaborn`](https://seaborn.pydata.org/?utm_medium=Exinfluencer&utm_source=Exinfluencer&utm_content=000026UJ&utm_term=10006555&utm_id=NA-SkillsNetwork-Channel-SkillsNetworkCoursesIBMML0232ENSkillsNetwork30654641-2021-01-01) for visualizing the data.\n",
        "*   [`matplotlib`](https://matplotlib.org/?utm_medium=Exinfluencer&utm_source=Exinfluencer&utm_content=000026UJ&utm_term=10006555&utm_id=NA-SkillsNetwork-Channel-SkillsNetworkCoursesIBMML0232ENSkillsNetwork30654641-2021-01-01) for visualizing the data.\n",
        "*   [`sklearn`](https://scikit-learn.org/stable/?utm_medium=Exinfluencer&utm_source=Exinfluencer&utm_content=000026UJ&utm_term=10006555&utm_id=NA-SkillsNetwork-Channel-SkillsNetworkCoursesIBMML0232ENSkillsNetwork30654641-2021-01-01) for machine learning and machine-learning-pipeline related functions.\n",
        "*   [`scipy`](https://docs.scipy.org/doc/scipy/tutorial/stats.html/?utm_medium=Exinfluencer&utm_source=Exinfluencer&utm_content=000026UJ&utm_term=10006555&utm_id=NA-SkillsNetwork-Channel-SkillsNetworkCoursesIBMML0232ENSkillsNetwork30654641-2021-01-01) for statistical computations.\n"
      ],
      "metadata": {
        "id": "_11IQz9GHCD5"
      }
    },
    {
      "cell_type": "markdown",
      "source": [
        "## **Installing Required Libraries**"
      ],
      "metadata": {
        "id": "PEAeMY7zJJ_u"
      }
    },
    {
      "cell_type": "markdown",
      "source": [
        "We will be required to install various modules to conduct our analysis when running the notebook in the current environment."
      ],
      "metadata": {
        "id": "lIHW-crpJL_K"
      }
    },
    {
      "cell_type": "code",
      "source": [
        "import pandas as pd\n",
        "import numpy as np \n",
        "\n",
        "import seaborn as sns \n",
        "import matplotlib.pylab as plt\n",
        "import plotly.express as px\n",
        "%matplotlib inline\n"
      ],
      "metadata": {
        "id": "uhRT88d7Jpnv"
      },
      "execution_count": 408,
      "outputs": []
    },
    {
      "cell_type": "markdown",
      "source": [
        "## **Reading and understanding our data**\n",
        "\n",
        "---"
      ],
      "metadata": {
        "id": "J3R0whh0HTre"
      }
    },
    {
      "cell_type": "markdown",
      "source": [
        "The dataset in this analysis represents <a href=\"https://www150.statcan.gc.ca/t1/tbl1/en/tv.action?utm_medium=Exinfluencer&utm_source=Exinfluencer&utm_content=000026UJ&utm_term=10006555&utm_id=NA-SkillsNetwork-Channel-SkillsNetworkCoursesIBMML0232ENSkillsNetwork30654641-2021-01-01&pid=1810000101\">Financial Inclusion in East Africa </a>Which contains demographic information and what financial services are used by indivduals across East Africa  .The data was extracted from various Finscope surveys ranging from 2016 to 2018."
      ],
      "metadata": {
        "id": "qaxenvERHoBq"
      }
    },
    {
      "cell_type": "markdown",
      "metadata": {
        "id": "OI3P3YnHUEBk"
      },
      "source": [
        "##  Checking the Data"
      ]
    },
    {
      "cell_type": "markdown",
      "source": [
        "Let's read the data into pandas dataframe and look at the first 5 rows using the head() method."
      ],
      "metadata": {
        "id": "EB2_O5apI-X9"
      }
    },
    {
      "cell_type": "code",
      "metadata": {
        "id": "YjSVNwgptHxY",
        "outputId": "65ba633c-9428-4697-94d5-b104962f2cf3",
        "colab": {
          "base_uri": "https://localhost:8080/",
          "height": 354
        }
      },
      "source": [
        "# Determining the no. of records in our dataset\n",
        "data = pd.read_csv('https://bit.ly/FinancialDataset')\n",
        "\n",
        "data.head()"
      ],
      "execution_count": 409,
      "outputs": [
        {
          "output_type": "execute_result",
          "data": {
            "text/plain": [
              "  country  year    uniqueid Has a Bank account Type of Location  \\\n",
              "0   Kenya  2018  uniqueid_1                Yes            Rural   \n",
              "1   Kenya  2018  uniqueid_2                 No            Rural   \n",
              "2   Kenya  2018  uniqueid_3                Yes            Urban   \n",
              "3   Kenya  2018  uniqueid_4                 No            Rural   \n",
              "4   Kenya  2018  uniqueid_5                 No            Urban   \n",
              "\n",
              "  Cell Phone Access  household_size  Respondent Age gender_of_respondent  \\\n",
              "0               Yes             3.0            24.0               Female   \n",
              "1                No             5.0            70.0               Female   \n",
              "2               Yes             5.0            26.0                 Male   \n",
              "3               Yes             5.0            34.0               Female   \n",
              "4                No             8.0            26.0                 Male   \n",
              "\n",
              "  The relathip with head           marital_status  \\\n",
              "0                 Spouse  Married/Living together   \n",
              "1      Head of Household                  Widowed   \n",
              "2         Other relative     Single/Never Married   \n",
              "3      Head of Household  Married/Living together   \n",
              "4                  Child     Single/Never Married   \n",
              "\n",
              "               Level of Educuation                Type of Job  \n",
              "0              Secondary education              Self employed  \n",
              "1              No formal education       Government Dependent  \n",
              "2  Vocational/Specialised training              Self employed  \n",
              "3                Primary education  Formally employed Private  \n",
              "4                Primary education        Informally employed  "
            ],
            "text/html": [
              "\n",
              "  <div id=\"df-4b2fd598-7401-4859-a495-c061409f6b09\">\n",
              "    <div class=\"colab-df-container\">\n",
              "      <div>\n",
              "<style scoped>\n",
              "    .dataframe tbody tr th:only-of-type {\n",
              "        vertical-align: middle;\n",
              "    }\n",
              "\n",
              "    .dataframe tbody tr th {\n",
              "        vertical-align: top;\n",
              "    }\n",
              "\n",
              "    .dataframe thead th {\n",
              "        text-align: right;\n",
              "    }\n",
              "</style>\n",
              "<table border=\"1\" class=\"dataframe\">\n",
              "  <thead>\n",
              "    <tr style=\"text-align: right;\">\n",
              "      <th></th>\n",
              "      <th>country</th>\n",
              "      <th>year</th>\n",
              "      <th>uniqueid</th>\n",
              "      <th>Has a Bank account</th>\n",
              "      <th>Type of Location</th>\n",
              "      <th>Cell Phone Access</th>\n",
              "      <th>household_size</th>\n",
              "      <th>Respondent Age</th>\n",
              "      <th>gender_of_respondent</th>\n",
              "      <th>The relathip with head</th>\n",
              "      <th>marital_status</th>\n",
              "      <th>Level of Educuation</th>\n",
              "      <th>Type of Job</th>\n",
              "    </tr>\n",
              "  </thead>\n",
              "  <tbody>\n",
              "    <tr>\n",
              "      <th>0</th>\n",
              "      <td>Kenya</td>\n",
              "      <td>2018</td>\n",
              "      <td>uniqueid_1</td>\n",
              "      <td>Yes</td>\n",
              "      <td>Rural</td>\n",
              "      <td>Yes</td>\n",
              "      <td>3.0</td>\n",
              "      <td>24.0</td>\n",
              "      <td>Female</td>\n",
              "      <td>Spouse</td>\n",
              "      <td>Married/Living together</td>\n",
              "      <td>Secondary education</td>\n",
              "      <td>Self employed</td>\n",
              "    </tr>\n",
              "    <tr>\n",
              "      <th>1</th>\n",
              "      <td>Kenya</td>\n",
              "      <td>2018</td>\n",
              "      <td>uniqueid_2</td>\n",
              "      <td>No</td>\n",
              "      <td>Rural</td>\n",
              "      <td>No</td>\n",
              "      <td>5.0</td>\n",
              "      <td>70.0</td>\n",
              "      <td>Female</td>\n",
              "      <td>Head of Household</td>\n",
              "      <td>Widowed</td>\n",
              "      <td>No formal education</td>\n",
              "      <td>Government Dependent</td>\n",
              "    </tr>\n",
              "    <tr>\n",
              "      <th>2</th>\n",
              "      <td>Kenya</td>\n",
              "      <td>2018</td>\n",
              "      <td>uniqueid_3</td>\n",
              "      <td>Yes</td>\n",
              "      <td>Urban</td>\n",
              "      <td>Yes</td>\n",
              "      <td>5.0</td>\n",
              "      <td>26.0</td>\n",
              "      <td>Male</td>\n",
              "      <td>Other relative</td>\n",
              "      <td>Single/Never Married</td>\n",
              "      <td>Vocational/Specialised training</td>\n",
              "      <td>Self employed</td>\n",
              "    </tr>\n",
              "    <tr>\n",
              "      <th>3</th>\n",
              "      <td>Kenya</td>\n",
              "      <td>2018</td>\n",
              "      <td>uniqueid_4</td>\n",
              "      <td>No</td>\n",
              "      <td>Rural</td>\n",
              "      <td>Yes</td>\n",
              "      <td>5.0</td>\n",
              "      <td>34.0</td>\n",
              "      <td>Female</td>\n",
              "      <td>Head of Household</td>\n",
              "      <td>Married/Living together</td>\n",
              "      <td>Primary education</td>\n",
              "      <td>Formally employed Private</td>\n",
              "    </tr>\n",
              "    <tr>\n",
              "      <th>4</th>\n",
              "      <td>Kenya</td>\n",
              "      <td>2018</td>\n",
              "      <td>uniqueid_5</td>\n",
              "      <td>No</td>\n",
              "      <td>Urban</td>\n",
              "      <td>No</td>\n",
              "      <td>8.0</td>\n",
              "      <td>26.0</td>\n",
              "      <td>Male</td>\n",
              "      <td>Child</td>\n",
              "      <td>Single/Never Married</td>\n",
              "      <td>Primary education</td>\n",
              "      <td>Informally employed</td>\n",
              "    </tr>\n",
              "  </tbody>\n",
              "</table>\n",
              "</div>\n",
              "      <button class=\"colab-df-convert\" onclick=\"convertToInteractive('df-4b2fd598-7401-4859-a495-c061409f6b09')\"\n",
              "              title=\"Convert this dataframe to an interactive table.\"\n",
              "              style=\"display:none;\">\n",
              "        \n",
              "  <svg xmlns=\"http://www.w3.org/2000/svg\" height=\"24px\"viewBox=\"0 0 24 24\"\n",
              "       width=\"24px\">\n",
              "    <path d=\"M0 0h24v24H0V0z\" fill=\"none\"/>\n",
              "    <path d=\"M18.56 5.44l.94 2.06.94-2.06 2.06-.94-2.06-.94-.94-2.06-.94 2.06-2.06.94zm-11 1L8.5 8.5l.94-2.06 2.06-.94-2.06-.94L8.5 2.5l-.94 2.06-2.06.94zm10 10l.94 2.06.94-2.06 2.06-.94-2.06-.94-.94-2.06-.94 2.06-2.06.94z\"/><path d=\"M17.41 7.96l-1.37-1.37c-.4-.4-.92-.59-1.43-.59-.52 0-1.04.2-1.43.59L10.3 9.45l-7.72 7.72c-.78.78-.78 2.05 0 2.83L4 21.41c.39.39.9.59 1.41.59.51 0 1.02-.2 1.41-.59l7.78-7.78 2.81-2.81c.8-.78.8-2.07 0-2.86zM5.41 20L4 18.59l7.72-7.72 1.47 1.35L5.41 20z\"/>\n",
              "  </svg>\n",
              "      </button>\n",
              "      \n",
              "  <style>\n",
              "    .colab-df-container {\n",
              "      display:flex;\n",
              "      flex-wrap:wrap;\n",
              "      gap: 12px;\n",
              "    }\n",
              "\n",
              "    .colab-df-convert {\n",
              "      background-color: #E8F0FE;\n",
              "      border: none;\n",
              "      border-radius: 50%;\n",
              "      cursor: pointer;\n",
              "      display: none;\n",
              "      fill: #1967D2;\n",
              "      height: 32px;\n",
              "      padding: 0 0 0 0;\n",
              "      width: 32px;\n",
              "    }\n",
              "\n",
              "    .colab-df-convert:hover {\n",
              "      background-color: #E2EBFA;\n",
              "      box-shadow: 0px 1px 2px rgba(60, 64, 67, 0.3), 0px 1px 3px 1px rgba(60, 64, 67, 0.15);\n",
              "      fill: #174EA6;\n",
              "    }\n",
              "\n",
              "    [theme=dark] .colab-df-convert {\n",
              "      background-color: #3B4455;\n",
              "      fill: #D2E3FC;\n",
              "    }\n",
              "\n",
              "    [theme=dark] .colab-df-convert:hover {\n",
              "      background-color: #434B5C;\n",
              "      box-shadow: 0px 1px 3px 1px rgba(0, 0, 0, 0.15);\n",
              "      filter: drop-shadow(0px 1px 2px rgba(0, 0, 0, 0.3));\n",
              "      fill: #FFFFFF;\n",
              "    }\n",
              "  </style>\n",
              "\n",
              "      <script>\n",
              "        const buttonEl =\n",
              "          document.querySelector('#df-4b2fd598-7401-4859-a495-c061409f6b09 button.colab-df-convert');\n",
              "        buttonEl.style.display =\n",
              "          google.colab.kernel.accessAllowed ? 'block' : 'none';\n",
              "\n",
              "        async function convertToInteractive(key) {\n",
              "          const element = document.querySelector('#df-4b2fd598-7401-4859-a495-c061409f6b09');\n",
              "          const dataTable =\n",
              "            await google.colab.kernel.invokeFunction('convertToInteractive',\n",
              "                                                     [key], {});\n",
              "          if (!dataTable) return;\n",
              "\n",
              "          const docLinkHtml = 'Like what you see? Visit the ' +\n",
              "            '<a target=\"_blank\" href=https://colab.research.google.com/notebooks/data_table.ipynb>data table notebook</a>'\n",
              "            + ' to learn more about interactive tables.';\n",
              "          element.innerHTML = '';\n",
              "          dataTable['output_type'] = 'display_data';\n",
              "          await google.colab.output.renderOutput(dataTable, element);\n",
              "          const docLink = document.createElement('div');\n",
              "          docLink.innerHTML = docLinkHtml;\n",
              "          element.appendChild(docLink);\n",
              "        }\n",
              "      </script>\n",
              "    </div>\n",
              "  </div>\n",
              "  "
            ]
          },
          "metadata": {},
          "execution_count": 409
        }
      ]
    },
    {
      "cell_type": "markdown",
      "source": [
        "Let's find out how many entries there are in our dataset, using `shape` function."
      ],
      "metadata": {
        "id": "GLVlcyECKDGA"
      }
    },
    {
      "cell_type": "code",
      "metadata": {
        "id": "xHhTw5eKWr0n",
        "outputId": "3567c629-6056-403c-e96e-0579db4a1919",
        "colab": {
          "base_uri": "https://localhost:8080/"
        }
      },
      "source": [
        "data.shape"
      ],
      "execution_count": 410,
      "outputs": [
        {
          "output_type": "execute_result",
          "data": {
            "text/plain": [
              "(23524, 13)"
            ]
          },
          "metadata": {},
          "execution_count": 410
        }
      ]
    },
    {
      "cell_type": "markdown",
      "source": [
        "This means that we have 23,524 rows and 13 columns."
      ],
      "metadata": {
        "id": "XYX-eHK9Myfo"
      }
    },
    {
      "cell_type": "markdown",
      "source": [
        "We can find more information about the features and types using the `info()`  method."
      ],
      "metadata": {
        "id": "WSyNdmyqKNFt"
      }
    },
    {
      "cell_type": "code",
      "metadata": {
        "id": "e9AzGcZFrIIr",
        "outputId": "1fa29c05-001c-446c-8ffb-fe9f0fa5b042",
        "colab": {
          "base_uri": "https://localhost:8080/"
        }
      },
      "source": [
        "data.info()"
      ],
      "execution_count": 411,
      "outputs": [
        {
          "output_type": "stream",
          "name": "stdout",
          "text": [
            "<class 'pandas.core.frame.DataFrame'>\n",
            "RangeIndex: 23524 entries, 0 to 23523\n",
            "Data columns (total 13 columns):\n",
            " #   Column                  Non-Null Count  Dtype  \n",
            "---  ------                  --------------  -----  \n",
            " 0   country                 23510 non-null  object \n",
            " 1   year                    23524 non-null  int64  \n",
            " 2   uniqueid                23524 non-null  object \n",
            " 3   Has a Bank account      23488 non-null  object \n",
            " 4   Type of Location        23509 non-null  object \n",
            " 5   Cell Phone Access       23513 non-null  object \n",
            " 6   household_size          23496 non-null  float64\n",
            " 7   Respondent Age          23490 non-null  float64\n",
            " 8   gender_of_respondent    23490 non-null  object \n",
            " 9   The relathip with head  23520 non-null  object \n",
            " 10  marital_status          23492 non-null  object \n",
            " 11  Level of Educuation     23495 non-null  object \n",
            " 12  Type of Job             23494 non-null  object \n",
            "dtypes: float64(2), int64(1), object(10)\n",
            "memory usage: 2.3+ MB\n"
          ]
        }
      ]
    },
    {
      "cell_type": "markdown",
      "source": [
        "According to the output above, we have 23524 entries, 0 to 23523, as well as 13 features. The \"Non-Null Count\" column shows the number of non-null entries.  If the count is 23523 then there is no missing values for that particular feature,if it's less then there are missing entries. 'Has a Bank account' is our target or response variable and the rest of the features are our predictor variables.\n",
        "\n",
        "We also have a mix of numerical (1 int64 and 2 float64) and object data types."
      ],
      "metadata": {
        "id": "M1x2FmOyNCOH"
      }
    },
    {
      "cell_type": "markdown",
      "source": [
        "Using `columns` method, we will print all the column names."
      ],
      "metadata": {
        "id": "18egiifFKeZ8"
      }
    },
    {
      "cell_type": "code",
      "source": [
        "data.columns"
      ],
      "metadata": {
        "id": "3hDQUi1WKg4U",
        "outputId": "1e725277-277c-4cdc-c21c-8d876c916863",
        "colab": {
          "base_uri": "https://localhost:8080/"
        }
      },
      "execution_count": 412,
      "outputs": [
        {
          "output_type": "execute_result",
          "data": {
            "text/plain": [
              "Index(['country', 'year', 'uniqueid', 'Has a Bank account', 'Type of Location',\n",
              "       'Cell Phone Access', 'household_size', 'Respondent Age',\n",
              "       'gender_of_respondent', 'The relathip with head', 'marital_status',\n",
              "       'Level of Educuation', 'Type of Job'],\n",
              "      dtype='object')"
            ]
          },
          "metadata": {},
          "execution_count": 412
        }
      ]
    },
    {
      "cell_type": "markdown",
      "source": [
        "Below, we will check for any missing values."
      ],
      "metadata": {
        "id": "5SP8movsKqBb"
      }
    },
    {
      "cell_type": "code",
      "metadata": {
        "id": "n8-dW4sQWzbc",
        "colab": {
          "base_uri": "https://localhost:8080/"
        },
        "outputId": "b9c5a41d-1f9a-4fee-9399-e853aea6f226"
      },
      "source": [
        "data.isnull().sum()"
      ],
      "execution_count": 413,
      "outputs": [
        {
          "output_type": "execute_result",
          "data": {
            "text/plain": [
              "country                   14\n",
              "year                       0\n",
              "uniqueid                   0\n",
              "Has a Bank account        36\n",
              "Type of Location          15\n",
              "Cell Phone Access         11\n",
              "household_size            28\n",
              "Respondent Age            34\n",
              "gender_of_respondent      34\n",
              "The relathip with head     4\n",
              "marital_status            32\n",
              "Level of Educuation       29\n",
              "Type of Job               30\n",
              "dtype: int64"
            ]
          },
          "metadata": {},
          "execution_count": 413
        }
      ]
    },
    {
      "cell_type": "markdown",
      "source": [
        "This confirms our recent conclusion that indeed there are missing entries in our dataset."
      ],
      "metadata": {
        "id": "NPv6BgczNj2w"
      }
    },
    {
      "cell_type": "markdown",
      "source": [
        "**Looking for duplicates**"
      ],
      "metadata": {
        "id": "GhanwJ6HpIr5"
      }
    },
    {
      "cell_type": "code",
      "source": [
        "data.duplicated().unique()"
      ],
      "metadata": {
        "colab": {
          "base_uri": "https://localhost:8080/"
        },
        "id": "B1VdGkdEosIt",
        "outputId": "fd20b972-014b-436b-c378-96059aa2ee70"
      },
      "execution_count": 414,
      "outputs": [
        {
          "output_type": "execute_result",
          "data": {
            "text/plain": [
              "array([False])"
            ]
          },
          "metadata": {},
          "execution_count": 414
        }
      ]
    },
    {
      "cell_type": "markdown",
      "source": [
        "From the data we can clearly see that there are no duplicates."
      ],
      "metadata": {
        "id": "A3B6m712pDmn"
      }
    },
    {
      "cell_type": "markdown",
      "source": [
        "## **Handling the Missing Values**"
      ],
      "metadata": {
        "id": "6i2jzY4yQ2bW"
      }
    },
    {
      "cell_type": "markdown",
      "source": [
        "### Finding the Missing Values"
      ],
      "metadata": {
        "id": "31YkAl0UQ84_"
      }
    },
    {
      "cell_type": "markdown",
      "source": [
        "To summarize all the missing values in our dataset, we will use `isnull()` function. Then, we will add them all up, by using `sum()` function, sort them with `sort_values()` function, and plot the first 20 columns (as the majority of our missing values fall within first 20 columns), using the `bar plot` function from the `matplotlib` library."
      ],
      "metadata": {
        "id": "-iBau8nfRTUO"
      }
    },
    {
      "cell_type": "markdown",
      "source": [
        ""
      ],
      "metadata": {
        "id": "uekiu_aaPi4s"
      }
    },
    {
      "cell_type": "code",
      "source": [
        "total = data.isnull().sum().sort_values(ascending=False)\n",
        "total_select = total.head(13)\n",
        "total_select.plot(kind=\"bar\", figsize = (8,6), fontsize = 10)\n",
        "\n",
        "plt.xlabel(\"Columns\", fontsize = 20)\n",
        "plt.ylabel(\"Count\", fontsize = 20)\n",
        "plt.title(\"Total Missing Values\", fontsize = 20)"
      ],
      "metadata": {
        "colab": {
          "base_uri": "https://localhost:8080/",
          "height": 538
        },
        "id": "_tcOuBtcRaY1",
        "outputId": "53d79a76-4859-4f70-c5a8-83fdd8c50612"
      },
      "execution_count": 415,
      "outputs": [
        {
          "output_type": "execute_result",
          "data": {
            "text/plain": [
              "Text(0.5, 1.0, 'Total Missing Values')"
            ]
          },
          "metadata": {},
          "execution_count": 415
        },
        {
          "output_type": "display_data",
          "data": {
            "text/plain": [
              "<Figure size 576x432 with 1 Axes>"
            ],
            "image/png": "[encoded data removed]"
          },
          "metadata": {
            "needs_background": "light"
          }
        }
      ]
    },
    {
      "cell_type": "markdown",
      "source": [
        "We can notice that the highest column with missing values is 'Has a Bank account' which will require some cleaning, but before that, let's calculate the proportion of missing values to the actual entries."
      ],
      "metadata": {
        "id": "OMOgpN3DSAez"
      }
    },
    {
      "cell_type": "code",
      "source": [
        "percent_missing = data. isnull(). sum() * 100 / len(data)\n",
        "percent_missing.sort_values(ascending=False)"
      ],
      "metadata": {
        "colab": {
          "base_uri": "https://localhost:8080/"
        },
        "id": "_JI_jiiLSTB-",
        "outputId": "eca7d737-ba02-4e03-eb38-75ca5680cace"
      },
      "execution_count": 416,
      "outputs": [
        {
          "output_type": "execute_result",
          "data": {
            "text/plain": [
              "Has a Bank account        0.153035\n",
              "Respondent Age            0.144533\n",
              "gender_of_respondent      0.144533\n",
              "marital_status            0.136031\n",
              "Type of Job               0.127529\n",
              "Level of Educuation       0.123278\n",
              "household_size            0.119027\n",
              "Type of Location          0.063765\n",
              "country                   0.059514\n",
              "Cell Phone Access         0.046761\n",
              "The relathip with head    0.017004\n",
              "year                      0.000000\n",
              "uniqueid                  0.000000\n",
              "dtype: float64"
            ]
          },
          "metadata": {},
          "execution_count": 416
        }
      ]
    },
    {
      "cell_type": "markdown",
      "source": [
        "I will go for dropping the missing values since they are less than 40% of the actual data. If it were between 40% to 50% then we would have used estimators like the mean to to determine the missing entries. "
      ],
      "metadata": {
        "id": "owN-IVeNShFK"
      }
    },
    {
      "cell_type": "code",
      "metadata": {
        "id": "5o_bQcT5W3Wz",
        "colab": {
          "base_uri": "https://localhost:8080/"
        },
        "outputId": "e52016fc-c6f7-458b-b38c-6c4812e37b1e"
      },
      "source": [
        "data = data.dropna(axis = 0, how ='any')\n",
        "\n",
        "data.info()"
      ],
      "execution_count": 417,
      "outputs": [
        {
          "output_type": "stream",
          "name": "stdout",
          "text": [
            "<class 'pandas.core.frame.DataFrame'>\n",
            "Int64Index: 23343 entries, 0 to 23523\n",
            "Data columns (total 13 columns):\n",
            " #   Column                  Non-Null Count  Dtype  \n",
            "---  ------                  --------------  -----  \n",
            " 0   country                 23343 non-null  object \n",
            " 1   year                    23343 non-null  int64  \n",
            " 2   uniqueid                23343 non-null  object \n",
            " 3   Has a Bank account      23343 non-null  object \n",
            " 4   Type of Location        23343 non-null  object \n",
            " 5   Cell Phone Access       23343 non-null  object \n",
            " 6   household_size          23343 non-null  float64\n",
            " 7   Respondent Age          23343 non-null  float64\n",
            " 8   gender_of_respondent    23343 non-null  object \n",
            " 9   The relathip with head  23343 non-null  object \n",
            " 10  marital_status          23343 non-null  object \n",
            " 11  Level of Educuation     23343 non-null  object \n",
            " 12  Type of Job             23343 non-null  object \n",
            "dtypes: float64(2), int64(1), object(10)\n",
            "memory usage: 2.5+ MB\n"
          ]
        }
      ]
    },
    {
      "cell_type": "markdown",
      "source": [
        "Our data doesn't have any missing values."
      ],
      "metadata": {
        "id": "LhH4ws0jTssC"
      }
    },
    {
      "cell_type": "markdown",
      "source": [
        "Let's have a brief overview of the measures of dispersion and central tendancy."
      ],
      "metadata": {
        "id": "6CBgmw3CpVu2"
      }
    },
    {
      "cell_type": "code",
      "source": [
        "data.describe().T"
      ],
      "metadata": {
        "colab": {
          "base_uri": "https://localhost:8080/",
          "height": 143
        },
        "id": "yekAYdBQSo9i",
        "outputId": "ccf323d4-74dc-4403-fdaa-7b34cc7e7875"
      },
      "execution_count": 418,
      "outputs": [
        {
          "output_type": "execute_result",
          "data": {
            "text/plain": [
              "                  count         mean        std     min     25%     50%  \\\n",
              "year            23343.0  2016.980594   0.901740  2016.0  2016.0  2017.0   \n",
              "household_size  23343.0     3.688643   2.281184     0.0     2.0     3.0   \n",
              "Respondent Age  23343.0    38.805509  16.519803    16.0    26.0    35.0   \n",
              "\n",
              "                   75%     max  \n",
              "year            2018.0  2056.0  \n",
              "household_size     5.0    21.0  \n",
              "Respondent Age    49.0   100.0  "
            ],
            "text/html": [
              "\n",
              "  <div id=\"df-9e692c24-d413-4020-ac3a-687b5f3aada6\">\n",
              "    <div class=\"colab-df-container\">\n",
              "      <div>\n",
              "<style scoped>\n",
              "    .dataframe tbody tr th:only-of-type {\n",
              "        vertical-align: middle;\n",
              "    }\n",
              "\n",
              "    .dataframe tbody tr th {\n",
              "        vertical-align: top;\n",
              "    }\n",
              "\n",
              "    .dataframe thead th {\n",
              "        text-align: right;\n",
              "    }\n",
              "</style>\n",
              "<table border=\"1\" class=\"dataframe\">\n",
              "  <thead>\n",
              "    <tr style=\"text-align: right;\">\n",
              "      <th></th>\n",
              "      <th>count</th>\n",
              "      <th>mean</th>\n",
              "      <th>std</th>\n",
              "      <th>min</th>\n",
              "      <th>25%</th>\n",
              "      <th>50%</th>\n",
              "      <th>75%</th>\n",
              "      <th>max</th>\n",
              "    </tr>\n",
              "  </thead>\n",
              "  <tbody>\n",
              "    <tr>\n",
              "      <th>year</th>\n",
              "      <td>23343.0</td>\n",
              "      <td>2016.980594</td>\n",
              "      <td>0.901740</td>\n",
              "      <td>2016.0</td>\n",
              "      <td>2016.0</td>\n",
              "      <td>2017.0</td>\n",
              "      <td>2018.0</td>\n",
              "      <td>2056.0</td>\n",
              "    </tr>\n",
              "    <tr>\n",
              "      <th>household_size</th>\n",
              "      <td>23343.0</td>\n",
              "      <td>3.688643</td>\n",
              "      <td>2.281184</td>\n",
              "      <td>0.0</td>\n",
              "      <td>2.0</td>\n",
              "      <td>3.0</td>\n",
              "      <td>5.0</td>\n",
              "      <td>21.0</td>\n",
              "    </tr>\n",
              "    <tr>\n",
              "      <th>Respondent Age</th>\n",
              "      <td>23343.0</td>\n",
              "      <td>38.805509</td>\n",
              "      <td>16.519803</td>\n",
              "      <td>16.0</td>\n",
              "      <td>26.0</td>\n",
              "      <td>35.0</td>\n",
              "      <td>49.0</td>\n",
              "      <td>100.0</td>\n",
              "    </tr>\n",
              "  </tbody>\n",
              "</table>\n",
              "</div>\n",
              "      <button class=\"colab-df-convert\" onclick=\"convertToInteractive('df-9e692c24-d413-4020-ac3a-687b5f3aada6')\"\n",
              "              title=\"Convert this dataframe to an interactive table.\"\n",
              "              style=\"display:none;\">\n",
              "        \n",
              "  <svg xmlns=\"http://www.w3.org/2000/svg\" height=\"24px\"viewBox=\"0 0 24 24\"\n",
              "       width=\"24px\">\n",
              "    <path d=\"M0 0h24v24H0V0z\" fill=\"none\"/>\n",
              "    <path d=\"M18.56 5.44l.94 2.06.94-2.06 2.06-.94-2.06-.94-.94-2.06-.94 2.06-2.06.94zm-11 1L8.5 8.5l.94-2.06 2.06-.94-2.06-.94L8.5 2.5l-.94 2.06-2.06.94zm10 10l.94 2.06.94-2.06 2.06-.94-2.06-.94-.94-2.06-.94 2.06-2.06.94z\"/><path d=\"M17.41 7.96l-1.37-1.37c-.4-.4-.92-.59-1.43-.59-.52 0-1.04.2-1.43.59L10.3 9.45l-7.72 7.72c-.78.78-.78 2.05 0 2.83L4 21.41c.39.39.9.59 1.41.59.51 0 1.02-.2 1.41-.59l7.78-7.78 2.81-2.81c.8-.78.8-2.07 0-2.86zM5.41 20L4 18.59l7.72-7.72 1.47 1.35L5.41 20z\"/>\n",
              "  </svg>\n",
              "      </button>\n",
              "      \n",
              "  <style>\n",
              "    .colab-df-container {\n",
              "      display:flex;\n",
              "      flex-wrap:wrap;\n",
              "      gap: 12px;\n",
              "    }\n",
              "\n",
              "    .colab-df-convert {\n",
              "      background-color: #E8F0FE;\n",
              "      border: none;\n",
              "      border-radius: 50%;\n",
              "      cursor: pointer;\n",
              "      display: none;\n",
              "      fill: #1967D2;\n",
              "      height: 32px;\n",
              "      padding: 0 0 0 0;\n",
              "      width: 32px;\n",
              "    }\n",
              "\n",
              "    .colab-df-convert:hover {\n",
              "      background-color: #E2EBFA;\n",
              "      box-shadow: 0px 1px 2px rgba(60, 64, 67, 0.3), 0px 1px 3px 1px rgba(60, 64, 67, 0.15);\n",
              "      fill: #174EA6;\n",
              "    }\n",
              "\n",
              "    [theme=dark] .colab-df-convert {\n",
              "      background-color: #3B4455;\n",
              "      fill: #D2E3FC;\n",
              "    }\n",
              "\n",
              "    [theme=dark] .colab-df-convert:hover {\n",
              "      background-color: #434B5C;\n",
              "      box-shadow: 0px 1px 3px 1px rgba(0, 0, 0, 0.15);\n",
              "      filter: drop-shadow(0px 1px 2px rgba(0, 0, 0, 0.3));\n",
              "      fill: #FFFFFF;\n",
              "    }\n",
              "  </style>\n",
              "\n",
              "      <script>\n",
              "        const buttonEl =\n",
              "          document.querySelector('#df-9e692c24-d413-4020-ac3a-687b5f3aada6 button.colab-df-convert');\n",
              "        buttonEl.style.display =\n",
              "          google.colab.kernel.accessAllowed ? 'block' : 'none';\n",
              "\n",
              "        async function convertToInteractive(key) {\n",
              "          const element = document.querySelector('#df-9e692c24-d413-4020-ac3a-687b5f3aada6');\n",
              "          const dataTable =\n",
              "            await google.colab.kernel.invokeFunction('convertToInteractive',\n",
              "                                                     [key], {});\n",
              "          if (!dataTable) return;\n",
              "\n",
              "          const docLinkHtml = 'Like what you see? Visit the ' +\n",
              "            '<a target=\"_blank\" href=https://colab.research.google.com/notebooks/data_table.ipynb>data table notebook</a>'\n",
              "            + ' to learn more about interactive tables.';\n",
              "          element.innerHTML = '';\n",
              "          dataTable['output_type'] = 'display_data';\n",
              "          await google.colab.output.renderOutput(dataTable, element);\n",
              "          const docLink = document.createElement('div');\n",
              "          docLink.innerHTML = docLinkHtml;\n",
              "          element.appendChild(docLink);\n",
              "        }\n",
              "      </script>\n",
              "    </div>\n",
              "  </div>\n",
              "  "
            ]
          },
          "metadata": {},
          "execution_count": 418
        }
      ]
    },
    {
      "cell_type": "markdown",
      "source": [
        "We can conclude that the average household is close to 4 members and the common respondent age is 38."
      ],
      "metadata": {
        "id": "w3yJT-KIpjcH"
      }
    },
    {
      "cell_type": "markdown",
      "source": [
        "## **Handling the Outliers**"
      ],
      "metadata": {
        "id": "4_WNfGhoUY6B"
      }
    },
    {
      "cell_type": "markdown",
      "source": [
        "When looking for outliers, we'll look at the most critical features that we will be using, that is; \n",
        "\n",
        "\n",
        "1.   Household size\n",
        "2.   Respondent age\n",
        "\n",
        "\n",
        "\n",
        "The main reason is that they are numerical features which will be easy when plotting them using boxplots"
      ],
      "metadata": {
        "id": "RoUTkXNVVBM8"
      }
    },
    {
      "cell_type": "markdown",
      "source": [
        "### Uni-variate Analysis"
      ],
      "metadata": {
        "id": "7x6TBWmYV32s"
      }
    },
    {
      "cell_type": "markdown",
      "source": [
        "Here, we will use a box plot for the 'Household' and the 'Respondent age' features."
      ],
      "metadata": {
        "id": "3EMiEu54V6zq"
      }
    },
    {
      "cell_type": "markdown",
      "source": [
        "**Univariate Analysis : Household**"
      ],
      "metadata": {
        "id": "XuAwh71iKa8T"
      }
    },
    {
      "cell_type": "code",
      "source": [
        "\n",
        "# Get the label column\n",
        "label = data[data.columns[6]]\n",
        "\n",
        "# Create a figure for 2 subplots (2 rows, 1 column)\n",
        "fig, ax = plt.subplots(2, 1, figsize = (9,12))\n",
        "\n",
        "# Plot the histogram   \n",
        "ax[0].hist(label, bins=100)\n",
        "ax[0].set_ylabel('Frequency')\n",
        "\n",
        "# Add lines for the mean, median, and mode\n",
        "ax[0].axvline(label.mean(), color='magenta', linestyle='dashed', linewidth=2)\n",
        "ax[0].axvline(label.median(), color='cyan', linestyle='dashed', linewidth=2)\n",
        "\n",
        "\n",
        "# Plot the boxplot   \n",
        "ax[1].boxplot(x=data['household_size'])\n",
        "ax[1].set_xlabel('Household size')\n",
        "\n",
        "\n",
        "# Add a title to the Figure\n",
        "fig.suptitle('Household Distribution')\n",
        "\n",
        "# Show the figure\n",
        "fig.show()"
      ],
      "metadata": {
        "colab": {
          "base_uri": "https://localhost:8080/",
          "height": 801
        },
        "id": "f3znj4SQXiXF",
        "outputId": "dec3336d-754a-46e1-b51a-25d0bf46f11f"
      },
      "execution_count": 419,
      "outputs": [
        {
          "output_type": "display_data",
          "data": {
            "text/plain": [
              "<Figure size 648x864 with 2 Axes>"
            ],
            "image/png": "[encoded data removed]"
          },
          "metadata": {
            "needs_background": "light"
          }
        }
      ]
    },
    {
      "cell_type": "markdown",
      "source": [
        "We can notice that there are outliers in the Household size but we cannot remove them since it's common for African families to have close to 20 members.Therefore no changes will be done to this feature."
      ],
      "metadata": {
        "id": "jWpbGb03Wlye"
      }
    },
    {
      "cell_type": "markdown",
      "source": [
        "**Univariate Analysis : Respondent Age**"
      ],
      "metadata": {
        "id": "GsCbQ66VKlO1"
      }
    },
    {
      "cell_type": "code",
      "source": [
        "# Get the label column\n",
        "label = data[data.columns[7]]\n",
        "\n",
        "# Create a figure for 2 subplots (2 rows, 1 column)\n",
        "fig, ax = plt.subplots(2, 1, figsize = (9,12))\n",
        "\n",
        "# Plot the histogram   \n",
        "ax[0].hist(label, bins=100)\n",
        "ax[0].set_ylabel('Frequency')\n",
        "\n",
        "# Add lines for the mean, median, and mode\n",
        "ax[0].axvline(label.mean(), color='magenta', linestyle='dashed', linewidth=2)\n",
        "ax[0].axvline(label.median(), color='cyan', linestyle='dashed', linewidth=2)\n",
        "\n",
        "\n",
        "# Plot the boxplot   \n",
        "ax[1].boxplot(x=data['Respondent Age'])\n",
        "ax[1].set_xlabel('Respondent Age')\n",
        "\n",
        "\n",
        "# Add a title to the Figure\n",
        "fig.suptitle('Age Distribution')\n",
        "\n",
        "# Show the figure\n",
        "fig.show()"
      ],
      "metadata": {
        "colab": {
          "base_uri": "https://localhost:8080/",
          "height": 801
        },
        "id": "29xEEi8EbQWD",
        "outputId": "89bb7931-c6df-4799-9e17-085d0f9cab8f"
      },
      "execution_count": 420,
      "outputs": [
        {
          "output_type": "display_data",
          "data": {
            "text/plain": [
              "<Figure size 648x864 with 2 Axes>"
            ],
            "image/png": "[encoded data removed]"
          },
          "metadata": {
            "needs_background": "light"
          }
        }
      ]
    },
    {
      "cell_type": "markdown",
      "source": [
        "From both plots we can establish that our data is not normally distributed, the distribution is right skewed meaning the peak of the graph lies to the left of the centre.Hence the following conclusion:\n",
        "\n",
        "**Mean ≥ Median ≥ Mode**\n",
        "\n",
        "This means majority of our sample group are between the age of 20 and 40 and that they their household size is less than 5."
      ],
      "metadata": {
        "id": "JhpCkWvZb1Od"
      }
    },
    {
      "cell_type": "markdown",
      "source": [
        "## Bivariate Analysis"
      ],
      "metadata": {
        "id": "O_MHeZXhdsLn"
      }
    },
    {
      "cell_type": "markdown",
      "source": [
        "For us to perfom our Bivarite analysis, we'll have to first perform feature scaling to transform our categorical data for easier analysis and inference.\n",
        "\n",
        "But we'll have to drop the non-essential columns like;\n",
        "\n",
        "*   Year\n",
        "*   Uniqueid\n",
        "\n",
        "These features don't have a huge impact(no linear relationship) in our quest to determine if the sample groups were banked or not.\n"
      ],
      "metadata": {
        "id": "beP15N-Xd5hB"
      }
    },
    {
      "cell_type": "markdown",
      "source": [
        "### **Numerical to Numerical Bivariate Analysis**"
      ],
      "metadata": {
        "id": "1443ravnoQOe"
      }
    },
    {
      "cell_type": "markdown",
      "source": [
        "Here we will be using a Scatter Plot to visualize our feature pair. \n",
        "\n",
        "**Scatter Plot: Responded Age and Household size**."
      ],
      "metadata": {
        "id": "IeeNLBFdpde8"
      }
    },
    {
      "cell_type": "code",
      "source": [
        "# Plotting our scatterplot\n",
        "plt.scatter(data['Respondent Age'], data['household_size'])\n",
        "\n",
        "# Giving our scatterplot a title\n",
        "plt.title('Age Vs Household Size')\n",
        "\n",
        "# Labelling our x axis\n",
        "plt.xlabel('Respondent Age (years)')\n",
        "\n",
        "# Labelling our y axis\n",
        "plt.ylabel('Household size')\n",
        "\n",
        "# Displaying our scatterplot\n",
        "plt.show()"
      ],
      "metadata": {
        "colab": {
          "base_uri": "https://localhost:8080/",
          "height": 295
        },
        "id": "vne9rv9RooSB",
        "outputId": "bf467af3-78b5-4b90-bdb8-15a8f1cb3177"
      },
      "execution_count": 421,
      "outputs": [
        {
          "output_type": "display_data",
          "data": {
            "text/plain": [
              "<Figure size 432x288 with 1 Axes>"
            ],
            "image/png": "[encoded data removed]"
          },
          "metadata": {
            "needs_background": "light"
          }
        }
      ]
    },
    {
      "cell_type": "markdown",
      "source": [
        "From the plot we can establish that there is no clear linear relationship between age of the respondents and household size in relation to our analysis."
      ],
      "metadata": {
        "id": "S_V9BlqnMDFF"
      }
    },
    {
      "cell_type": "markdown",
      "source": [
        "## Categorical to Categorical Bivariate Analysis"
      ],
      "metadata": {
        "id": "Mry39cSVqEDs"
      }
    },
    {
      "cell_type": "markdown",
      "source": [
        "Our plot of choice for performing this analysis will be ;\n",
        "\n",
        "*   **Bar Chart : Gender of Respondent Vs Has a Bank account**\n",
        "\n"
      ],
      "metadata": {
        "id": "I97qkoghqLth"
      }
    },
    {
      "cell_type": "code",
      "source": [
        "sns.set_style('whitegrid')\n",
        "sns.countplot(x='Has a Bank account', hue = 'gender_of_respondent' ,data = data, palette ='afmhot')"
      ],
      "metadata": {
        "colab": {
          "base_uri": "https://localhost:8080/",
          "height": 296
        },
        "id": "B3wBohzhwOBI",
        "outputId": "4f64e391-fd75-4e31-aab2-d52c634186af"
      },
      "execution_count": 422,
      "outputs": [
        {
          "output_type": "execute_result",
          "data": {
            "text/plain": [
              "<matplotlib.axes._subplots.AxesSubplot at 0x7fbfb0504490>"
            ]
          },
          "metadata": {},
          "execution_count": 422
        },
        {
          "output_type": "display_data",
          "data": {
            "text/plain": [
              "<Figure size 432x288 with 1 Axes>"
            ],
            "image/png": "[encoded data removed]"
          },
          "metadata": {}
        }
      ]
    },
    {
      "cell_type": "markdown",
      "source": [
        "From the plot we can establish that majority of the gender who are unbanked are women while men lead in in the category of being banked as opposed to women."
      ],
      "metadata": {
        "id": "vjf_nHoiM1rN"
      }
    },
    {
      "cell_type": "markdown",
      "source": [
        "**Bar Chart : Country Vs Has a Bank account**"
      ],
      "metadata": {
        "id": "B3a-qWTQMrGY"
      }
    },
    {
      "cell_type": "code",
      "source": [
        "sns.set_style('whitegrid')\n",
        "sns.countplot(x='Has a Bank account', hue = 'country' ,data = data, palette ='gist_ncar')"
      ],
      "metadata": {
        "colab": {
          "base_uri": "https://localhost:8080/",
          "height": 298
        },
        "id": "RH_5e0rExxGs",
        "outputId": "e30b5b89-47ea-4967-c35e-cb27238f3b5d"
      },
      "execution_count": 423,
      "outputs": [
        {
          "output_type": "execute_result",
          "data": {
            "text/plain": [
              "<matplotlib.axes._subplots.AxesSubplot at 0x7fbfb4a05290>"
            ]
          },
          "metadata": {},
          "execution_count": 423
        },
        {
          "output_type": "display_data",
          "data": {
            "text/plain": [
              "<Figure size 432x288 with 1 Axes>"
            ],
            "image/png": "[encoded data removed]"
          },
          "metadata": {}
        }
      ]
    },
    {
      "cell_type": "markdown",
      "source": [
        "From the plot we can establish that Rwanda has the highest number of unbanked people while Kenya leads in the group of banked people. \n",
        "\n",
        "Another observation is that the least unbanked country, Uganda, has more people who are unbanked as compared to the highest banked country, Kenya."
      ],
      "metadata": {
        "id": "FUwXd4BMNKnp"
      }
    },
    {
      "cell_type": "code",
      "source": [
        "sns.set_style('whitegrid')\n",
        "sns.countplot(x='Cell Phone Access', hue = 'gender_of_respondent' ,data = data, palette ='afmhot')\n"
      ],
      "metadata": {
        "colab": {
          "base_uri": "https://localhost:8080/",
          "height": 296
        },
        "id": "y-bY6hYTN6l_",
        "outputId": "b0c791c3-a09f-486e-ae66-d40f4acc1829"
      },
      "execution_count": 424,
      "outputs": [
        {
          "output_type": "execute_result",
          "data": {
            "text/plain": [
              "<matplotlib.axes._subplots.AxesSubplot at 0x7fbfb51c6850>"
            ]
          },
          "metadata": {},
          "execution_count": 424
        },
        {
          "output_type": "display_data",
          "data": {
            "text/plain": [
              "<Figure size 432x288 with 1 Axes>"
            ],
            "image/png": "[encoded data removed]"
          },
          "metadata": {}
        }
      ]
    },
    {
      "cell_type": "markdown",
      "source": [
        "From the plot we can establish that alot more women do hold or have access to mobile phones as compared to men.Also on the category of not having cell phones, women still lead as compared to men."
      ],
      "metadata": {
        "id": "pGI9IK3XOQgB"
      }
    },
    {
      "cell_type": "markdown",
      "source": [
        "## Multivariate Analysis\n",
        "\n",
        "**Banked - Country - Gender of Respondent**"
      ],
      "metadata": {
        "id": "17t7sYYlqhuP"
      }
    },
    {
      "cell_type": "code",
      "source": [
        "sns.catplot(x=\"Has a Bank account\", hue=\"gender_of_respondent\", col=\"country\", data=data, kind=\"count\",height=4, aspect=.7)"
      ],
      "metadata": {
        "colab": {
          "base_uri": "https://localhost:8080/",
          "height": 314
        },
        "id": "a0B2CNha0_lq",
        "outputId": "fe3b856d-bfad-478a-807f-57e3a175e1c5"
      },
      "execution_count": 425,
      "outputs": [
        {
          "output_type": "execute_result",
          "data": {
            "text/plain": [
              "<seaborn.axisgrid.FacetGrid at 0x7fbfb5f74ed0>"
            ]
          },
          "metadata": {},
          "execution_count": 425
        },
        {
          "output_type": "display_data",
          "data": {
            "text/plain": [
              "<Figure size 926.15x288 with 4 Axes>"
            ],
            "image/png": "[encoded data removed]"
          },
          "metadata": {}
        }
      ]
    },
    {
      "cell_type": "markdown",
      "source": [
        "We can clearly see that Rwanda has the highest population of people who are unbanked in East Africa. Kenya is leading in the region for the banked people.\n",
        "\n",
        "\n",
        "In general women in East Africa are mostly unbanked."
      ],
      "metadata": {
        "id": "8zkR-UAGqxM6"
      }
    },
    {
      "cell_type": "markdown",
      "source": [
        "**Banked - Country - Marital Status**"
      ],
      "metadata": {
        "id": "KnkEPYQ7rTDx"
      }
    },
    {
      "cell_type": "code",
      "source": [
        "sns.catplot(x=\"Has a Bank account\", hue=\"marital_status\", col=\"country\", data=data, kind=\"count\",height=4, aspect=.7)"
      ],
      "metadata": {
        "colab": {
          "base_uri": "https://localhost:8080/",
          "height": 314
        },
        "id": "AI6dr3RU3KHb",
        "outputId": "d424f7d5-5ea5-4c9e-ea2f-0fbce116563c"
      },
      "execution_count": 426,
      "outputs": [
        {
          "output_type": "execute_result",
          "data": {
            "text/plain": [
              "<seaborn.axisgrid.FacetGrid at 0x7fbfb5fabd10>"
            ]
          },
          "metadata": {},
          "execution_count": 426
        },
        {
          "output_type": "display_data",
          "data": {
            "text/plain": [
              "<Figure size 959.9x288 with 4 Axes>"
            ],
            "image/png": "[encoded data removed]"
          },
          "metadata": {}
        }
      ]
    },
    {
      "cell_type": "markdown",
      "source": [
        "From the plot, we can see that alot of married people in Rwanda are unbanked while in Tanzania, alot of single people are unbanked.\n",
        "\n",
        "Kenya seems to be leading for married people to be banked."
      ],
      "metadata": {
        "id": "YPFCgzGurbtl"
      }
    },
    {
      "cell_type": "markdown",
      "source": [
        "**Banked - Country - Cell phone**"
      ],
      "metadata": {
        "id": "yhvRDnMZsHOY"
      }
    },
    {
      "cell_type": "code",
      "source": [
        "sns.catplot(x=\"Has a Bank account\", hue=\"Cell Phone Access\", col=\"country\", data=data, kind=\"count\",height=4, aspect=.7)"
      ],
      "metadata": {
        "colab": {
          "base_uri": "https://localhost:8080/",
          "height": 314
        },
        "id": "IgmWgPlx7hJR",
        "outputId": "41372ae5-7c2a-4f27-fb67-b197ca1a4218"
      },
      "execution_count": 427,
      "outputs": [
        {
          "output_type": "execute_result",
          "data": {
            "text/plain": [
              "<seaborn.axisgrid.FacetGrid at 0x7fbfb5b54050>"
            ]
          },
          "metadata": {},
          "execution_count": 427
        },
        {
          "output_type": "display_data",
          "data": {
            "text/plain": [
              "<Figure size 904.65x288 with 4 Axes>"
            ],
            "image/png": "[encoded data removed]"
          },
          "metadata": {}
        }
      ]
    },
    {
      "cell_type": "markdown",
      "source": [
        "In all regions of East Africa, we can establish that more people with cell phones appear to be unbanked, especially in Rwanda.\n",
        "Kenya is the only country leading for cell phone holders to be banked."
      ],
      "metadata": {
        "id": "JpSoPnaAsKd7"
      }
    },
    {
      "cell_type": "markdown",
      "source": [
        "**Banked - Gender of Respondents - Cell phone**"
      ],
      "metadata": {
        "id": "0csSGdHXtLcb"
      }
    },
    {
      "cell_type": "code",
      "source": [
        "sns.catplot(x=\"Has a Bank account\", hue=\"Cell Phone Access\", col=\"gender_of_respondent\", data=data, kind=\"count\",height=4, aspect=.7)"
      ],
      "metadata": {
        "colab": {
          "base_uri": "https://localhost:8080/",
          "height": 314
        },
        "id": "hwjK3-9dO2VL",
        "outputId": "163fdefa-7cf4-4150-9e87-d5eb8073ddce"
      },
      "execution_count": 428,
      "outputs": [
        {
          "output_type": "execute_result",
          "data": {
            "text/plain": [
              "<seaborn.axisgrid.FacetGrid at 0x7fbfb6887190>"
            ]
          },
          "metadata": {},
          "execution_count": 428
        },
        {
          "output_type": "display_data",
          "data": {
            "text/plain": [
              "<Figure size 501.45x288 with 2 Axes>"
            ],
            "image/png": "[encoded data removed]"
          },
          "metadata": {}
        }
      ]
    },
    {
      "cell_type": "markdown",
      "source": [
        "From the plot, we can establish that more women than men are unbanked despite having access to mobile phones."
      ],
      "metadata": {
        "id": "G1gJG68ytTyf"
      }
    },
    {
      "cell_type": "markdown",
      "source": [
        "## **Multivariate analysis using Principal Component Analysis**"
      ],
      "metadata": {
        "id": "sMqMsFBKohZZ"
      }
    },
    {
      "cell_type": "markdown",
      "source": [
        "### **PCA with Scikit-Learn**"
      ],
      "metadata": {
        "id": "_hxLqXmuqBO5"
      }
    },
    {
      "cell_type": "markdown",
      "source": [
        "Dimentionality reduction is part of the feature extraction process that combines the existing features to produce more useful ones. The goal of dimensionality reduction is to simplify the data without loosing too much information."
      ],
      "metadata": {
        "id": "zWif3TLcqCQd"
      }
    },
    {
      "cell_type": "markdown",
      "source": [
        "We will begin the process by dropping the unnecessary column since this has no\n",
        "linear relationship."
      ],
      "metadata": {
        "id": "-iIil1FWoqya"
      }
    },
    {
      "cell_type": "code",
      "source": [
        "data = data.drop(['uniqueid'],1)"
      ],
      "metadata": {
        "colab": {
          "base_uri": "https://localhost:8080/"
        },
        "id": "DHGta6qF2f0B",
        "outputId": "a623b097-9ed2-49ea-bf7e-d28eaa3240bd"
      },
      "execution_count": 429,
      "outputs": [
        {
          "output_type": "stream",
          "name": "stderr",
          "text": [
            "/usr/local/lib/python3.7/dist-packages/ipykernel_launcher.py:1: FutureWarning: In a future version of pandas all arguments of DataFrame.drop except for the argument 'labels' will be keyword-only\n",
            "  \"\"\"Entry point for launching an IPython kernel.\n"
          ]
        }
      ]
    },
    {
      "cell_type": "markdown",
      "source": [
        "We will proceed with Label Encoding our data for easier feeding into our machine learning models. ML models wor well with numerical values."
      ],
      "metadata": {
        "id": "IjoE_Dwso6ux"
      }
    },
    {
      "cell_type": "code",
      "source": [
        "data = pd.get_dummies(data=data, columns = ['marital_status','country','Type of Job','Cell Phone Access','gender_of_respondent',\n",
        "                                            'year','Level of Educuation','Type of Location','The relathip with head'])"
      ],
      "metadata": {
        "id": "zfKEvGqP9CBJ"
      },
      "execution_count": 430,
      "outputs": []
    },
    {
      "cell_type": "markdown",
      "source": [
        "Let's see what we have so far."
      ],
      "metadata": {
        "id": "WJPT5YmWpIxG"
      }
    },
    {
      "cell_type": "code",
      "source": [
        "data.head()"
      ],
      "metadata": {
        "colab": {
          "base_uri": "https://localhost:8080/",
          "height": 386
        },
        "id": "NDwsij4IaQk1",
        "outputId": "09c1934b-05dd-48f0-f017-6ddeb6f8955a"
      },
      "execution_count": 397,
      "outputs": [
        {
          "output_type": "execute_result",
          "data": {
            "text/plain": [
              "  Has a Bank account  household_size  Respondent Age  year_2016  year_2017  \\\n",
              "0                Yes             3.0            24.0          0          0   \n",
              "1                 No             5.0            70.0          0          0   \n",
              "2                Yes             5.0            26.0          0          0   \n",
              "3                 No             5.0            34.0          0          0   \n",
              "4                 No             8.0            26.0          0          0   \n",
              "\n",
              "   year_2018  year_2029  year_2039  year_2056  country_Kenya  ...  \\\n",
              "0          1          0          0          0              1  ...   \n",
              "1          1          0          0          0              1  ...   \n",
              "2          1          0          0          0              1  ...   \n",
              "3          1          0          0          0              1  ...   \n",
              "4          1          0          0          0              1  ...   \n",
              "\n",
              "   Type of Job_No Income  Type of Job_Other Income  \\\n",
              "0                      0                         0   \n",
              "1                      0                         0   \n",
              "2                      0                         0   \n",
              "3                      0                         0   \n",
              "4                      0                         0   \n",
              "\n",
              "   Type of Job_Remittance Dependent  Type of Job_Self employed  \\\n",
              "0                                 0                          1   \n",
              "1                                 0                          0   \n",
              "2                                 0                          1   \n",
              "3                                 0                          0   \n",
              "4                                 0                          0   \n",
              "\n",
              "   The relathip with head_Child  The relathip with head_Head of Household  \\\n",
              "0                             0                                         0   \n",
              "1                             0                                         1   \n",
              "2                             0                                         0   \n",
              "3                             0                                         1   \n",
              "4                             1                                         0   \n",
              "\n",
              "   The relathip with head_Other non-relatives  \\\n",
              "0                                           0   \n",
              "1                                           0   \n",
              "2                                           0   \n",
              "3                                           0   \n",
              "4                                           0   \n",
              "\n",
              "   The relathip with head_Other relative  The relathip with head_Parent  \\\n",
              "0                                      0                              0   \n",
              "1                                      0                              0   \n",
              "2                                      1                              0   \n",
              "3                                      0                              0   \n",
              "4                                      0                              0   \n",
              "\n",
              "   The relathip with head_Spouse  \n",
              "0                              1  \n",
              "1                              0  \n",
              "2                              0  \n",
              "3                              0  \n",
              "4                              0  \n",
              "\n",
              "[5 rows x 47 columns]"
            ],
            "text/html": [
              "\n",
              "  <div id=\"df-221f6884-567a-4bbf-86a3-17d3dc8f4733\">\n",
              "    <div class=\"colab-df-container\">\n",
              "      <div>\n",
              "<style scoped>\n",
              "    .dataframe tbody tr th:only-of-type {\n",
              "        vertical-align: middle;\n",
              "    }\n",
              "\n",
              "    .dataframe tbody tr th {\n",
              "        vertical-align: top;\n",
              "    }\n",
              "\n",
              "    .dataframe thead th {\n",
              "        text-align: right;\n",
              "    }\n",
              "</style>\n",
              "<table border=\"1\" class=\"dataframe\">\n",
              "  <thead>\n",
              "    <tr style=\"text-align: right;\">\n",
              "      <th></th>\n",
              "      <th>Has a Bank account</th>\n",
              "      <th>household_size</th>\n",
              "      <th>Respondent Age</th>\n",
              "      <th>year_2016</th>\n",
              "      <th>year_2017</th>\n",
              "      <th>year_2018</th>\n",
              "      <th>year_2029</th>\n",
              "      <th>year_2039</th>\n",
              "      <th>year_2056</th>\n",
              "      <th>country_Kenya</th>\n",
              "      <th>...</th>\n",
              "      <th>Type of Job_No Income</th>\n",
              "      <th>Type of Job_Other Income</th>\n",
              "      <th>Type of Job_Remittance Dependent</th>\n",
              "      <th>Type of Job_Self employed</th>\n",
              "      <th>The relathip with head_Child</th>\n",
              "      <th>The relathip with head_Head of Household</th>\n",
              "      <th>The relathip with head_Other non-relatives</th>\n",
              "      <th>The relathip with head_Other relative</th>\n",
              "      <th>The relathip with head_Parent</th>\n",
              "      <th>The relathip with head_Spouse</th>\n",
              "    </tr>\n",
              "  </thead>\n",
              "  <tbody>\n",
              "    <tr>\n",
              "      <th>0</th>\n",
              "      <td>Yes</td>\n",
              "      <td>3.0</td>\n",
              "      <td>24.0</td>\n",
              "      <td>0</td>\n",
              "      <td>0</td>\n",
              "      <td>1</td>\n",
              "      <td>0</td>\n",
              "      <td>0</td>\n",
              "      <td>0</td>\n",
              "      <td>1</td>\n",
              "      <td>...</td>\n",
              "      <td>0</td>\n",
              "      <td>0</td>\n",
              "      <td>0</td>\n",
              "      <td>1</td>\n",
              "      <td>0</td>\n",
              "      <td>0</td>\n",
              "      <td>0</td>\n",
              "      <td>0</td>\n",
              "      <td>0</td>\n",
              "      <td>1</td>\n",
              "    </tr>\n",
              "    <tr>\n",
              "      <th>1</th>\n",
              "      <td>No</td>\n",
              "      <td>5.0</td>\n",
              "      <td>70.0</td>\n",
              "      <td>0</td>\n",
              "      <td>0</td>\n",
              "      <td>1</td>\n",
              "      <td>0</td>\n",
              "      <td>0</td>\n",
              "      <td>0</td>\n",
              "      <td>1</td>\n",
              "      <td>...</td>\n",
              "      <td>0</td>\n",
              "      <td>0</td>\n",
              "      <td>0</td>\n",
              "      <td>0</td>\n",
              "      <td>0</td>\n",
              "      <td>1</td>\n",
              "      <td>0</td>\n",
              "      <td>0</td>\n",
              "      <td>0</td>\n",
              "      <td>0</td>\n",
              "    </tr>\n",
              "    <tr>\n",
              "      <th>2</th>\n",
              "      <td>Yes</td>\n",
              "      <td>5.0</td>\n",
              "      <td>26.0</td>\n",
              "      <td>0</td>\n",
              "      <td>0</td>\n",
              "      <td>1</td>\n",
              "      <td>0</td>\n",
              "      <td>0</td>\n",
              "      <td>0</td>\n",
              "      <td>1</td>\n",
              "      <td>...</td>\n",
              "      <td>0</td>\n",
              "      <td>0</td>\n",
              "      <td>0</td>\n",
              "      <td>1</td>\n",
              "      <td>0</td>\n",
              "      <td>0</td>\n",
              "      <td>0</td>\n",
              "      <td>1</td>\n",
              "      <td>0</td>\n",
              "      <td>0</td>\n",
              "    </tr>\n",
              "    <tr>\n",
              "      <th>3</th>\n",
              "      <td>No</td>\n",
              "      <td>5.0</td>\n",
              "      <td>34.0</td>\n",
              "      <td>0</td>\n",
              "      <td>0</td>\n",
              "      <td>1</td>\n",
              "      <td>0</td>\n",
              "      <td>0</td>\n",
              "      <td>0</td>\n",
              "      <td>1</td>\n",
              "      <td>...</td>\n",
              "      <td>0</td>\n",
              "      <td>0</td>\n",
              "      <td>0</td>\n",
              "      <td>0</td>\n",
              "      <td>0</td>\n",
              "      <td>1</td>\n",
              "      <td>0</td>\n",
              "      <td>0</td>\n",
              "      <td>0</td>\n",
              "      <td>0</td>\n",
              "    </tr>\n",
              "    <tr>\n",
              "      <th>4</th>\n",
              "      <td>No</td>\n",
              "      <td>8.0</td>\n",
              "      <td>26.0</td>\n",
              "      <td>0</td>\n",
              "      <td>0</td>\n",
              "      <td>1</td>\n",
              "      <td>0</td>\n",
              "      <td>0</td>\n",
              "      <td>0</td>\n",
              "      <td>1</td>\n",
              "      <td>...</td>\n",
              "      <td>0</td>\n",
              "      <td>0</td>\n",
              "      <td>0</td>\n",
              "      <td>0</td>\n",
              "      <td>1</td>\n",
              "      <td>0</td>\n",
              "      <td>0</td>\n",
              "      <td>0</td>\n",
              "      <td>0</td>\n",
              "      <td>0</td>\n",
              "    </tr>\n",
              "  </tbody>\n",
              "</table>\n",
              "<p>5 rows × 47 columns</p>\n",
              "</div>\n",
              "      <button class=\"colab-df-convert\" onclick=\"convertToInteractive('df-221f6884-567a-4bbf-86a3-17d3dc8f4733')\"\n",
              "              title=\"Convert this dataframe to an interactive table.\"\n",
              "              style=\"display:none;\">\n",
              "        \n",
              "  <svg xmlns=\"http://www.w3.org/2000/svg\" height=\"24px\"viewBox=\"0 0 24 24\"\n",
              "       width=\"24px\">\n",
              "    <path d=\"M0 0h24v24H0V0z\" fill=\"none\"/>\n",
              "    <path d=\"M18.56 5.44l.94 2.06.94-2.06 2.06-.94-2.06-.94-.94-2.06-.94 2.06-2.06.94zm-11 1L8.5 8.5l.94-2.06 2.06-.94-2.06-.94L8.5 2.5l-.94 2.06-2.06.94zm10 10l.94 2.06.94-2.06 2.06-.94-2.06-.94-.94-2.06-.94 2.06-2.06.94z\"/><path d=\"M17.41 7.96l-1.37-1.37c-.4-.4-.92-.59-1.43-.59-.52 0-1.04.2-1.43.59L10.3 9.45l-7.72 7.72c-.78.78-.78 2.05 0 2.83L4 21.41c.39.39.9.59 1.41.59.51 0 1.02-.2 1.41-.59l7.78-7.78 2.81-2.81c.8-.78.8-2.07 0-2.86zM5.41 20L4 18.59l7.72-7.72 1.47 1.35L5.41 20z\"/>\n",
              "  </svg>\n",
              "      </button>\n",
              "      \n",
              "  <style>\n",
              "    .colab-df-container {\n",
              "      display:flex;\n",
              "      flex-wrap:wrap;\n",
              "      gap: 12px;\n",
              "    }\n",
              "\n",
              "    .colab-df-convert {\n",
              "      background-color: #E8F0FE;\n",
              "      border: none;\n",
              "      border-radius: 50%;\n",
              "      cursor: pointer;\n",
              "      display: none;\n",
              "      fill: #1967D2;\n",
              "      height: 32px;\n",
              "      padding: 0 0 0 0;\n",
              "      width: 32px;\n",
              "    }\n",
              "\n",
              "    .colab-df-convert:hover {\n",
              "      background-color: #E2EBFA;\n",
              "      box-shadow: 0px 1px 2px rgba(60, 64, 67, 0.3), 0px 1px 3px 1px rgba(60, 64, 67, 0.15);\n",
              "      fill: #174EA6;\n",
              "    }\n",
              "\n",
              "    [theme=dark] .colab-df-convert {\n",
              "      background-color: #3B4455;\n",
              "      fill: #D2E3FC;\n",
              "    }\n",
              "\n",
              "    [theme=dark] .colab-df-convert:hover {\n",
              "      background-color: #434B5C;\n",
              "      box-shadow: 0px 1px 3px 1px rgba(0, 0, 0, 0.15);\n",
              "      filter: drop-shadow(0px 1px 2px rgba(0, 0, 0, 0.3));\n",
              "      fill: #FFFFFF;\n",
              "    }\n",
              "  </style>\n",
              "\n",
              "      <script>\n",
              "        const buttonEl =\n",
              "          document.querySelector('#df-221f6884-567a-4bbf-86a3-17d3dc8f4733 button.colab-df-convert');\n",
              "        buttonEl.style.display =\n",
              "          google.colab.kernel.accessAllowed ? 'block' : 'none';\n",
              "\n",
              "        async function convertToInteractive(key) {\n",
              "          const element = document.querySelector('#df-221f6884-567a-4bbf-86a3-17d3dc8f4733');\n",
              "          const dataTable =\n",
              "            await google.colab.kernel.invokeFunction('convertToInteractive',\n",
              "                                                     [key], {});\n",
              "          if (!dataTable) return;\n",
              "\n",
              "          const docLinkHtml = 'Like what you see? Visit the ' +\n",
              "            '<a target=\"_blank\" href=https://colab.research.google.com/notebooks/data_table.ipynb>data table notebook</a>'\n",
              "            + ' to learn more about interactive tables.';\n",
              "          element.innerHTML = '';\n",
              "          dataTable['output_type'] = 'display_data';\n",
              "          await google.colab.output.renderOutput(dataTable, element);\n",
              "          const docLink = document.createElement('div');\n",
              "          docLink.innerHTML = docLinkHtml;\n",
              "          element.appendChild(docLink);\n",
              "        }\n",
              "      </script>\n",
              "    </div>\n",
              "  </div>\n",
              "  "
            ]
          },
          "metadata": {},
          "execution_count": 397
        }
      ]
    },
    {
      "cell_type": "markdown",
      "source": [
        "So now we'll have to separate our data for the model to train and learm based on the data."
      ],
      "metadata": {
        "id": "steGXdRQpNg4"
      }
    },
    {
      "cell_type": "code",
      "source": [
        "# Step 1: Preprocessing\n",
        "# The following script performs this task. The script below stores the feature sets into the X variable \n",
        "# and the series of corresponding labels in to the y variable.\n",
        "# \n",
        "X = data.drop('Has a Bank account', 1)\n",
        "y = data['Has a Bank account']"
      ],
      "metadata": {
        "colab": {
          "base_uri": "https://localhost:8080/"
        },
        "id": "dQHrLdA73Uqi",
        "outputId": "9eedb8f1-4d74-4159-b57c-7ca1aae9beb1"
      },
      "execution_count": 399,
      "outputs": [
        {
          "output_type": "stream",
          "name": "stderr",
          "text": [
            "/usr/local/lib/python3.7/dist-packages/ipykernel_launcher.py:6: FutureWarning: In a future version of pandas all arguments of DataFrame.drop except for the argument 'labels' will be keyword-only\n",
            "  \n"
          ]
        }
      ]
    },
    {
      "cell_type": "code",
      "source": [
        "# Step 2: Splitting the dataset into the Training set and Test set\n",
        "# The next preprocessing step is to divide data into training and test sets. \n",
        "# We execute the following script to do so:\n",
        "#\n",
        "from sklearn.model_selection import train_test_split\n",
        "\n",
        "X_train, X_test, y_train, y_test = train_test_split(X, y, test_size=0.2, random_state=0)"
      ],
      "metadata": {
        "id": "8I8fweSk3hoH"
      },
      "execution_count": 400,
      "outputs": []
    },
    {
      "cell_type": "code",
      "source": [
        "from sklearn.preprocessing import StandardScaler\n",
        "\n",
        "sc = StandardScaler()\n",
        "X_train = sc.fit_transform(X_train)\n",
        "X_test = sc.transform(X_test)"
      ],
      "metadata": {
        "id": "UwCgk1yTNxah"
      },
      "execution_count": 401,
      "outputs": []
    },
    {
      "cell_type": "code",
      "source": [
        "from sklearn.decomposition import PCA\n",
        "\n",
        "pca = PCA()\n",
        "X_train = pca.fit_transform(X_train)\n",
        "X_test = pca.transform(X_test)"
      ],
      "metadata": {
        "id": "NiCcSasp4NbG"
      },
      "execution_count": 402,
      "outputs": []
    },
    {
      "cell_type": "markdown",
      "source": [
        "A useful piece of information in PCA is the explained variance ratio of each principal component, available via the `explained_variance_ratio_` function. The ratio indicates the proportion of the dataset's variance that lies along each principal component. Let's look at the explained variance ratio of each of our two components."
      ],
      "metadata": {
        "id": "rN5BU-IxqPPZ"
      }
    },
    {
      "cell_type": "code",
      "source": [
        "\n",
        "explained_variance = pca.explained_variance_ratio_\n",
        "\n",
        "explained_variance"
      ],
      "metadata": {
        "colab": {
          "base_uri": "https://localhost:8080/"
        },
        "id": "PRXIHy1W4UbL",
        "outputId": "abf6693d-2d54-4abe-f34c-97690517660c"
      },
      "execution_count": 403,
      "outputs": [
        {
          "output_type": "execute_result",
          "data": {
            "text/plain": [
              "array([1.17295064e-01, 7.50879037e-02, 6.75129999e-02, 6.29195447e-02,\n",
              "       4.91273608e-02, 4.31551584e-02, 3.79899692e-02, 3.35332540e-02,\n",
              "       3.27329240e-02, 3.03152973e-02, 2.76614307e-02, 2.59532855e-02,\n",
              "       2.46733931e-02, 2.41246379e-02, 2.33206589e-02, 2.30442159e-02,\n",
              "       2.29689916e-02, 2.26990873e-02, 2.25912422e-02, 2.24508975e-02,\n",
              "       2.20920403e-02, 2.20203181e-02, 2.16866742e-02, 2.05198155e-02,\n",
              "       1.99422619e-02, 1.88205590e-02, 1.78288791e-02, 1.44724849e-02,\n",
              "       1.33860828e-02, 1.11124371e-02, 1.05338447e-02, 1.01746977e-02,\n",
              "       8.25258822e-03, 2.31323725e-32, 4.09563040e-33, 3.27435382e-33,\n",
              "       2.97017127e-33, 1.96012356e-33, 1.85519177e-33, 1.10078780e-33,\n",
              "       8.06294753e-34, 6.86871607e-34, 6.86871607e-34, 2.93606366e-34,\n",
              "       2.54309345e-34, 9.57422538e-35])"
            ]
          },
          "metadata": {},
          "execution_count": 403
        }
      ]
    },
    {
      "cell_type": "markdown",
      "source": [
        "From the ratio, we can establish that 43% (converting the exponents to percentage) of the first component constitutes our variance. "
      ],
      "metadata": {
        "id": "4kveQvmnqzzK"
      }
    },
    {
      "cell_type": "code",
      "source": [
        "# Step 3: Training and Making Predictions\n",
        "# In this case we'll use random forest classification for making the predictions.\n",
        "# \n",
        "from sklearn.ensemble import RandomForestClassifier\n",
        "\n",
        "classifier = RandomForestClassifier(max_depth=2, random_state=0)\n",
        "classifier.fit(X_train, y_train)\n",
        "\n",
        "# Predicting the Test set results\n",
        "y_pred = classifier.predict(X_test)"
      ],
      "metadata": {
        "id": "uGAW_77k4jwp"
      },
      "execution_count": 404,
      "outputs": []
    },
    {
      "cell_type": "code",
      "source": [
        "# Step 4: Using 1 Principal Component\n",
        "# Let's first try to use 1 principal component to train our algorithm. To do so, execute the following code:\n",
        "# \n",
        "from sklearn.decomposition import PCA\n",
        "\n",
        "pca = PCA(n_components=1)\n",
        "X_train = pca.fit_transform(X_train)\n",
        "X_test = pca.transform(X_test)"
      ],
      "metadata": {
        "id": "O8fJVe1-oGCb"
      },
      "execution_count": 405,
      "outputs": []
    },
    {
      "cell_type": "code",
      "source": [
        "# Step 5: Training and Making Predictions\n",
        "# In this case we'll use random forest classification for making the predictions.\n",
        "# \n",
        "from sklearn.ensemble import RandomForestClassifier\n",
        "\n",
        "classifier = RandomForestClassifier(max_depth=2, random_state=0)\n",
        "classifier.fit(X_train, y_train)\n",
        "\n",
        "# Predicting the Test set results\n",
        "y_pred = classifier.predict(X_test)"
      ],
      "metadata": {
        "id": "-VCVGU3qoKac"
      },
      "execution_count": 406,
      "outputs": []
    },
    {
      "cell_type": "code",
      "source": [
        "# Step 6: Performance Evaluation\n",
        "# \n",
        "from sklearn.metrics import confusion_matrix\n",
        "from sklearn.metrics import accuracy_score\n",
        "\n",
        "cm = confusion_matrix(y_test, y_pred)\n",
        "print(cm)\n",
        "print('Accuracy' , accuracy_score(y_test, y_pred))\n",
        "\n",
        "# Noting that from the output that with only one feature, \n",
        "# the random forest algorithm is able to correctly predict 4,008 out of 4,669 instances, \n",
        "# resulting in 85% accuracy."
      ],
      "metadata": {
        "colab": {
          "base_uri": "https://localhost:8080/"
        },
        "id": "ALuN6cwRoOHz",
        "outputId": "bbda7b71-6032-4d69-c77d-fad7353c9321"
      },
      "execution_count": 407,
      "outputs": [
        {
          "output_type": "stream",
          "name": "stdout",
          "text": [
            "[[4008    0]\n",
            " [ 661    0]]\n",
            "Accuracy 0.8584279288926965\n"
          ]
        }
      ]
    },
    {
      "cell_type": "markdown",
      "metadata": {
        "id": "vTbdjSrhVIiT"
      },
      "source": [
        "## Conclusion"
      ]
    },
    {
      "cell_type": "markdown",
      "source": [
        "Our goal was to acscertain if the penetration of mobile devices has brought about financial inclusion towards the East African Woman. Based on our analysis, i can conclude that despite the increase in women having access to such gadgets, unfortunately they haven't yet gained access towards financial services.This may be as a result of poor penetration of banks in such isolated areas or lack of tailor-made products that suits both men and women."
      ],
      "metadata": {
        "id": "keFB4Sjl2L80"
      }
    },
    {
      "cell_type": "markdown",
      "metadata": {
        "id": "lQ2G4ZPDVOXE"
      },
      "source": [
        "## My Recommendation"
      ]
    },
    {
      "cell_type": "markdown",
      "metadata": {
        "id": "jWVGKGuiYMWg"
      },
      "source": [
        "> Financial Institutions should introduce Digital Financial solutions that may bring about iclusion in East Africa. Too much focus on brick and mortar systems isolates the upcoming generation that is more tech-savvy and educated.\n",
        "\n",
        "There is a growing population of unbanked woemn who stand a chance to benefit given that financial institutions amend or provide digital solutions. Such institutions are likely to benefit by gaining more customers and also enhancing the lives of people.\n",
        "\n",
        "\n",
        "\n",
        "\n"
      ]
    }
  ]
}